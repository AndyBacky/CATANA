{
 "cells": [
  {
   "cell_type": "code",
   "execution_count": 2,
   "metadata": {
    "collapsed": false
   },
   "outputs": [],
   "source": [
    "#!/usr/bin/env python\n",
    "# coding=utf-8\n",
    "\n",
    "# Detects and creates the collaboration graph based on the clustering results\n",
    "# Evaluates content creator assignments, collaborations between channel, networks, categories and popularities\n",
    "\n",
    "import pandas as pa \n",
    "import numpy as np\n",
    "\n",
    "import json\n",
    "import os\n",
    "import networkx as nx\n",
    "import pygraphviz as gz\n",
    "from networkx.drawing.nx_pydot import write_dot\n",
    "import math\n",
    "\n",
    "from sklearn.preprocessing import MinMaxScaler\n",
    "\n",
    "import matplotlib\n",
    "import matplotlib.pyplot as plt\n",
    "%matplotlib notebook\n",
    "\n",
    "import itertools\n",
    "\n",
    "import csv\n",
    "from sqlalchemy import exists, func\n",
    "\n",
    "from database import *\n",
    "\n",
    "from matplotlib import pylab, pyplot\n",
    "from matplotlib import dates\n",
    "\n",
    "import seaborn as sns\n",
    "sns.set(color_codes=True)\n",
    "\n",
    "from scipy import stats, integrate\n",
    "\n",
    "from datetime import datetime, timedelta, date\n",
    "\n",
    "date_format = '%Y-%m-%dT%H:%M:%S.%fZ'\n",
    "date_format2 = '%Y-%m-%d %H:%M:%S'\n",
    "\n",
    "plt.style.use(['seaborn-paper'])\n",
    "sns.set_style(\"whitegrid\")\n",
    "#plt.rc('font', family='serif', serif='Charter')\n",
    "plt.rc('font', family='serif', serif='DejaVu Serif')\n",
    "\n",
    "SMALL_SIZE = 8\n",
    "MEDIUM_SIZE = 9\n",
    "BIGGER_SIZE = 13\n",
    "\n",
    "plt.rc('font', size=MEDIUM_SIZE)          # controls default text sizes\n",
    "plt.rc('axes', titlesize=MEDIUM_SIZE)     # fontsize of the axes title\n",
    "plt.rc('axes', labelsize=MEDIUM_SIZE)    # fontsize of the x and y labels\n",
    "plt.rc('xtick', labelsize=MEDIUM_SIZE)    # fontsize of the tick labels\n",
    "plt.rc('ytick', labelsize=MEDIUM_SIZE)    # fontsize of the tick labels\n",
    "plt.rc('legend', fontsize=MEDIUM_SIZE)    # legend fontsize\n",
    "plt.rc('figure', titlesize=MEDIUM_SIZE)  # fontsize of the figure title\n",
    "\n",
    "x_width  = 6.8898\n",
    "x_height = x_width / 1.618\n",
    "\n",
    "s_width  = 3.4449\n",
    "s_height = s_width / 1.618\n",
    "\n",
    "def save_plot(name, fig, width, height):\n",
    "    fig.tight_layout()\n",
    "    fig.set_size_inches(width, height)\n",
    "    #f.subplots_adjust(top=0.86)\n",
    "\n",
    "    fig.savefig(CDIR+'/'+name, bbox_inches=\"tight\")\n",
    "    #plt.savefig(CDIR+'/video_view_percentages.pdf', bbox_inches=\"tight\")"
   ]
  },
  {
   "cell_type": "code",
   "execution_count": 3,
   "metadata": {
    "collapsed": false
   },
   "outputs": [
    {
     "name": "stderr",
     "output_type": "stream",
     "text": [
      "/home/mlode/intel/intelpython27/lib/python2.7/site-packages/sqlalchemy/engine/default.py:470: Warning: Can't create database 'mlode'; database exists\n",
      "  cursor.execute(statement, parameters)\n"
     ]
    }
   ],
   "source": [
    "DIR = '../../data/data_evaluation_3months'\n",
    "CDIR = '../../data/data_evaluation_3months/charts'\n",
    "\n",
    "db = YTDatabase()"
   ]
  },
  {
   "cell_type": "code",
   "execution_count": 24,
   "metadata": {
    "collapsed": true
   },
   "outputs": [],
   "source": [
    "G = nx.read_gml(DIR+\"/collab_detections_graph.gml\")\n",
    "Gf = nx.read_gml(DIR+\"/filtered_collab_detections_graph.gml\")\n",
    "\n",
    "Gfu = Gf.to_undirected()"
   ]
  },
  {
   "cell_type": "code",
   "execution_count": 25,
   "metadata": {
    "collapsed": true
   },
   "outputs": [],
   "source": [
    "# apply networkx metrics on the graph\n",
    "\n",
    "# what type is graph? DiGraph"
   ]
  },
  {
   "cell_type": "code",
   "execution_count": 117,
   "metadata": {
    "collapsed": false
   },
   "outputs": [
    {
     "name": "stdout",
     "output_type": "stream",
     "text": [
      "Name: \n",
      "Type: DiGraph\n",
      "Number of nodes: 3624\n",
      "Number of edges: 3406\n",
      "Average in degree:   0.9398\n",
      "Average out degree:   0.9398\n",
      "Strongly Connected Components:  3320\n",
      "Weakly Conncted Components:  1432\n",
      "Average Degree: 1.87969094923\n"
     ]
    }
   ],
   "source": [
    "print nx.info(Gf)\n",
    "print \"Strongly Connected Components: \", nx.number_strongly_connected_components(Gf)\n",
    "print \"Weakly Conncted Components: \", nx.number_weakly_connected_components(Gf)\n",
    "print 'Average Degree:', pa.DataFrame(Gf.degree().items())[1].mean()"
   ]
  },
  {
   "cell_type": "code",
   "execution_count": 118,
   "metadata": {
    "collapsed": false
   },
   "outputs": [
    {
     "name": "stdout",
     "output_type": "stream",
     "text": [
      "Average Weighted Degree: 4.08774834437\n",
      "Average Weighted In-Degree: 2.04387417219\n",
      "Average Weighted Out-Degree: 2.04387417219\n"
     ]
    }
   ],
   "source": [
    "print 'Average Weighted Degree:', pa.DataFrame(Gf.degree(weight='weight').items())[1].mean()\n",
    "print 'Average Weighted In-Degree:', pa.DataFrame(Gf.in_degree(weight='weight').items())[1].mean()\n",
    "print 'Average Weighted Out-Degree:',pa.DataFrame(Gf.out_degree(weight='weight').items())[1].mean()"
   ]
  },
  {
   "cell_type": "code",
   "execution_count": 112,
   "metadata": {
    "collapsed": false
   },
   "outputs": [
    {
     "name": "stdout",
     "output_type": "stream",
     "text": [
      "                 0\n",
      "count  1432.000000\n",
      "mean      0.259078\n",
      "std       0.864261\n",
      "min       0.000000\n",
      "25%       0.000000\n",
      "50%       0.000000\n",
      "75%       0.000000\n",
      "max      23.000000\n"
     ]
    }
   ],
   "source": [
    "Ggs = [x for x in nx.connected_component_subgraphs(Gfu)]\n",
    "\n",
    "print pa.DataFrame([nx.diameter(g) for g in Ggs]).describe()\n",
    "\n"
   ]
  },
  {
   "cell_type": "code",
   "execution_count": 56,
   "metadata": {
    "collapsed": false
   },
   "outputs": [
    {
     "name": "stdout",
     "output_type": "stream",
     "text": [
      " Name: \n",
      "Type: Graph\n",
      "Number of nodes: 3624\n",
      "Number of edges: 3131\n",
      "Average degree:   1.7279\n"
     ]
    }
   ],
   "source": [
    "print nx.info(Gfu)"
   ]
  },
  {
   "cell_type": "code",
   "execution_count": 114,
   "metadata": {
    "collapsed": false
   },
   "outputs": [
    {
     "data": {
      "text/plain": [
       "0.057670389443132394"
      ]
     },
     "execution_count": 114,
     "metadata": {},
     "output_type": "execute_result"
    }
   ],
   "source": [
    "# Compute the average clustering coefficient for the graph G\n",
    "nx.average_clustering(Gfu)\n"
   ]
  },
  {
   "cell_type": "code",
   "execution_count": 87,
   "metadata": {
    "collapsed": false
   },
   "outputs": [
    {
     "name": "stdout",
     "output_type": "stream",
     "text": [
      "Name: \n",
      "Type: Graph\n",
      "Number of nodes: 1810\n",
      "Number of edges: 2731\n",
      "Average degree:   3.0177\n"
     ]
    }
   ],
   "source": [
    "def get_top_keys(dictionary, top):\n",
    "    items = dictionary.items()\n",
    "    items.sort(reverse=True, key=lambda x: x[1])\n",
    "    return map(lambda x: x[0], items[:top])\n",
    "\n",
    "\n",
    "# Biggest conccected component\n",
    "Gc = max(nx.connected_component_subgraphs(Gfu), key=len)\n",
    "print nx.info(Gc)\n",
    "\n",
    "# Betweenness centrality\n",
    "bet_cen = nx.betweenness_centrality(Gc)\n",
    "# Closeness centrality\n",
    "clo_cen = nx.closeness_centrality(Gc)\n",
    "# Eigenvector centrality\n",
    "eig_cen = nx.eigenvector_centrality_numpy(Gc)\n",
    "\n",
    "deg_cen = nx.degree_centrality(Gc)\n",
    "\n",
    "top_bet_cen = get_top_keys(bet_cen,10)\n",
    "top_clo_cen = get_top_keys(clo_cen,10)\n",
    "top_eig_cen = get_top_keys(eig_cen,10)\n",
    "top_deg_cen = get_top_keys(deg_cen,10)"
   ]
  },
  {
   "cell_type": "code",
   "execution_count": 91,
   "metadata": {
    "collapsed": false
   },
   "outputs": [
    {
     "name": "stdout",
     "output_type": "stream",
     "text": [
      "                 1\n",
      "count  1810.000000\n",
      "mean      0.003520\n",
      "std       0.008854\n",
      "min       0.000000\n",
      "25%       0.000000\n",
      "50%       0.000986\n",
      "75%       0.003456\n",
      "max       0.129319\n",
      "\n",
      "                 1\n",
      "count  1810.000000\n",
      "mean      0.141151\n",
      "std       0.026512\n",
      "min       0.067480\n",
      "25%       0.122877\n",
      "50%       0.140603\n",
      "75%       0.160754\n",
      "max       0.217821\n",
      "\n",
      "                  1\n",
      "count  1.810000e+03\n",
      "mean   9.036362e-04\n",
      "std    2.349414e-02\n",
      "min   -2.044549e-18\n",
      "25%    5.804070e-13\n",
      "50%    1.399612e-10\n",
      "75%    1.104900e-08\n",
      "max    7.043814e-01\n",
      "\n",
      "                 1\n",
      "count  1810.000000\n",
      "mean      0.001668\n",
      "std       0.002107\n",
      "min       0.000553\n",
      "25%       0.000553\n",
      "50%       0.001106\n",
      "75%       0.002211\n",
      "max       0.034273\n"
     ]
    }
   ],
   "source": [
    "print pa.DataFrame(bet_cen.items()).describe()\n",
    "print \n",
    "print pa.DataFrame(clo_cen.items()).describe()\n",
    "print \n",
    "print pa.DataFrame(eig_cen.items()).describe()\n",
    "print \n",
    "print pa.DataFrame(deg_cen.items()).describe()"
   ]
  },
  {
   "cell_type": "code",
   "execution_count": 88,
   "metadata": {
    "collapsed": false
   },
   "outputs": [
    {
     "name": "stdout",
     "output_type": "stream",
     "text": [
      "\n",
      "Top 10 Betweenes centrality:\n",
      "Cy'Spot 0.129318509095\n",
      "RabidRetrospectGames 0.116734038348\n",
      "Gelli Clash 0.112277645347\n",
      "Tony Tubo 0.1046684691\n",
      "Bolek 2106 0.0825739606384\n",
      "Body Mind Zone 0.0773463185803\n",
      "CBR 0.0771075918487\n",
      "EclypsiaFamily 0.0748198920465\n",
      "Reaper 0.0711017502866\n",
      "PlaystationFollower 0.0627454337087\n",
      "\n",
      "Top 10 Closeness centrality:\n",
      "Cy'Spot 0.217820590006\n",
      "RabidRetrospectGames 0.214209591474\n",
      "Reaper 0.212973863904\n",
      "PlaystationFollower 0.210104529617\n",
      "Gelli Clash 0.209569045412\n",
      "Tony Tubo 0.208146358302\n",
      "Bolek 2106 0.205521472393\n",
      "EclypsiaFamily 0.202575587906\n",
      "Drift0r 0.201987494417\n",
      "IvanForever 0.201897321429\n",
      "\n",
      "Top 10 Eigenvector centrality:\n",
      "iO Trendz 0.704381368276\n",
      "InformOverload 0.703372731799\n",
      "MostAmazingTop10 0.0896443776594\n",
      "SHAYTARDS 0.0180037627752\n",
      "InformOverload 2 0.0119134623913\n",
      "LandonProduction Vlogs 0.00747563009894\n",
      "Monster Energy 0.00671591254687\n",
      "Michael McCrudden 0.00627944179099\n",
      "HES19Motivation 0.0060699433969\n",
      "DJ Akademiks 0.00604798846565\n",
      "\n",
      "Top 10 Degree centrality:\n",
      "Gelli Clash 0.0342730790492\n",
      "Cy'Spot 0.0259812050857\n",
      "Tony Tubo 0.024322830293\n",
      "Bolek 2106 0.0232172470978\n",
      "DavidK 0.0232172470978\n",
      "RabidRetrospectGames 0.0210060807076\n",
      "Canal Clash ON 0.02045328911\n",
      "FarsAttack 0.0193477059149\n",
      "Reaper 0.0182421227197\n",
      "CONRAGEN ­ 0.0132669983416\n"
     ]
    }
   ],
   "source": [
    "with db._session_scope(False) as session:\n",
    "\n",
    "    print '\\nTop 10 Betweenes centrality:'\n",
    "    for ch in top_bet_cen:\n",
    "        title = session.query(Channel.title).filter(Channel.id == ch).first()[0]\n",
    "        print title, bet_cen[ch]\n",
    "    \n",
    "    print '\\nTop 10 Closeness centrality:'\n",
    "    for ch in top_clo_cen:\n",
    "        title = session.query(Channel.title).filter(Channel.id == ch).first()[0]\n",
    "        print title, clo_cen[ch]\n",
    "    \n",
    "    print '\\nTop 10 Eigenvector centrality:'\n",
    "    for ch in top_eig_cen:\n",
    "        title = session.query(Channel.title).filter(Channel.id == ch).first()[0]\n",
    "        print title, eig_cen[ch]\n",
    "        \n",
    "        \n",
    "    print '\\nTop 10 Degree centrality:'\n",
    "    for ch in top_deg_cen:\n",
    "        title = session.query(Channel.title).filter(Channel.id == ch).first()[0]\n",
    "        print title, deg_cen[ch]"
   ]
  },
  {
   "cell_type": "code",
   "execution_count": null,
   "metadata": {
    "collapsed": true
   },
   "outputs": [],
   "source": []
  }
 ],
 "metadata": {
  "kernelspec": {
   "display_name": "Python 2",
   "language": "python",
   "name": "python2"
  },
  "language_info": {
   "codemirror_mode": {
    "name": "ipython",
    "version": 2
   },
   "file_extension": ".py",
   "mimetype": "text/x-python",
   "name": "python",
   "nbconvert_exporter": "python",
   "pygments_lexer": "ipython2",
   "version": "2.7.12"
  }
 },
 "nbformat": 4,
 "nbformat_minor": 2
}
